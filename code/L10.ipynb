{
 "cells": [
  {
   "cell_type": "code",
   "execution_count": 35,
   "id": "ef1b77be-02b7-4259-9ad0-b453256d5760",
   "metadata": {},
   "outputs": [
    {
     "data": {
      "text/plain": [
       "trap_rule (generic function with 1 method)"
      ]
     },
     "execution_count": 35,
     "metadata": {},
     "output_type": "execute_result"
    }
   ],
   "source": [
    "function trap_rule(a,b,N)\n",
    "    x = zeros(N+1)\n",
    "    w = zeros(N+1)\n",
    "    x[1] = a\n",
    "    x[N+1] = b\n",
    "    w[1] = (b-a)/(2N)\n",
    "    w[N+1] = (b-a)/(2N)\n",
    "    for n=2:N\n",
    "        x[n] = a + (b-a)*(n-1)/N\n",
    "        w[n] = (b-a)/N\n",
    "    end\n",
    "    return x,w\n",
    "end"
   ]
  },
  {
   "cell_type": "code",
   "execution_count": 37,
   "id": "e2e72497-b4b2-4dc8-a2de-bd7331db3550",
   "metadata": {},
   "outputs": [
    {
     "data": {
      "text/plain": [
       "([0.0, 0.1, 0.2, 0.3, 0.4, 0.5, 0.6, 0.7, 0.8, 0.9, 1.0], [0.05, 0.1, 0.1, 0.1, 0.1, 0.1, 0.1, 0.1, 0.1, 0.1, 0.05])"
      ]
     },
     "execution_count": 37,
     "metadata": {},
     "output_type": "execute_result"
    }
   ],
   "source": [
    "trap_rule(0,1,10)"
   ]
  },
  {
   "cell_type": "code",
   "execution_count": 39,
   "id": "d3cefb48-6cf1-43b6-8596-41f1f32cd309",
   "metadata": {},
   "outputs": [
    {
     "data": {
      "text/plain": [
       "anti_deriv (generic function with 1 method)"
      ]
     },
     "execution_count": 39,
     "metadata": {},
     "output_type": "execute_result"
    }
   ],
   "source": [
    "anti_deriv(x) = x/2 - 0.25*sin(2x)"
   ]
  },
  {
   "cell_type": "code",
   "execution_count": 41,
   "id": "9554c020-4025-4fb2-911c-2befbcb79044",
   "metadata": {},
   "outputs": [
    {
     "data": {
      "text/plain": [
       "1.5698538745497315"
      ]
     },
     "execution_count": 41,
     "metadata": {},
     "output_type": "execute_result"
    }
   ],
   "source": [
    "anti_deriv(3)"
   ]
  },
  {
   "cell_type": "code",
   "execution_count": 49,
   "id": "06209cb0-6b00-4a36-814d-7d84315cd726",
   "metadata": {},
   "outputs": [
    {
     "data": {
      "text/plain": [
       "2.0957419842204672e-5"
      ]
     },
     "execution_count": 49,
     "metadata": {},
     "output_type": "execute_result"
    }
   ],
   "source": [
    "x,w = trap_rule(0,3,100)\n",
    "abs(w'*(sin.(x).^2) - anti_deriv(3))"
   ]
  },
  {
   "cell_type": "code",
   "execution_count": 43,
   "id": "d87e8b81-fb0b-45f9-b35b-cfae7c1c3c53",
   "metadata": {},
   "outputs": [
    {
     "data": {
      "text/plain": [
       "3.141592653589793"
      ]
     },
     "execution_count": 43,
     "metadata": {},
     "output_type": "execute_result"
    }
   ],
   "source": [
    "anti_deriv(2π)"
   ]
  },
  {
   "cell_type": "code",
   "execution_count": 57,
   "id": "dff5994a-51dc-4a8a-95ac-2111cd1a40eb",
   "metadata": {},
   "outputs": [
    {
     "data": {
      "text/plain": [
       "0.0"
      ]
     },
     "execution_count": 57,
     "metadata": {},
     "output_type": "execute_result"
    }
   ],
   "source": [
    "x,w = trap_rule(0,π,2)\n",
    "w'*(sin.(x).^2) - anti_deriv(π)"
   ]
  },
  {
   "cell_type": "code",
   "execution_count": 53,
   "id": "a91f8f13-b421-4107-ac08-95ee0e108656",
   "metadata": {},
   "outputs": [
    {
     "data": {
      "text/plain": [
       "1.5698329171298893"
      ]
     },
     "execution_count": 53,
     "metadata": {},
     "output_type": "execute_result"
    }
   ],
   "source": [
    "w'*(sin.(x).^2)"
   ]
  },
  {
   "cell_type": "code",
   "execution_count": 51,
   "id": "a50524ec-8391-46a7-8425-e0c46080f6e0",
   "metadata": {},
   "outputs": [
    {
     "data": {
      "text/plain": [
       "1.5707963267948966"
      ]
     },
     "execution_count": 51,
     "metadata": {},
     "output_type": "execute_result"
    }
   ],
   "source": [
    "anti_deriv(π)"
   ]
  },
  {
   "cell_type": "code",
   "execution_count": null,
   "id": "34374fd9-fcfb-4d00-a433-7c2d8e992744",
   "metadata": {},
   "outputs": [],
   "source": []
  }
 ],
 "metadata": {
  "kernelspec": {
   "display_name": "Julia 1.11.1",
   "language": "julia",
   "name": "julia-1.11"
  },
  "language_info": {
   "file_extension": ".jl",
   "mimetype": "application/julia",
   "name": "julia",
   "version": "1.11.1"
  }
 },
 "nbformat": 4,
 "nbformat_minor": 5
}
