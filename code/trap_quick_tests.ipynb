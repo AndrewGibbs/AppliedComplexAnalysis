{
 "cells": [
  {
   "cell_type": "markdown",
   "id": "528dca56-d93a-409b-a0a8-b87b9ca5ce59",
   "metadata": {},
   "source": [
    "# Testing the trapezium rule on a circle"
   ]
  },
  {
   "cell_type": "code",
   "execution_count": 42,
   "id": "5b45077a-8e5f-4e4f-876f-601cbd580216",
   "metadata": {},
   "outputs": [
    {
     "data": {
      "text/plain": [
       "closed_circle_contour_int (generic function with 1 method)"
      ]
     },
     "execution_count": 42,
     "metadata": {},
     "output_type": "execute_result"
    }
   ],
   "source": [
    "function closed_circle_contour_int(f, N, z_0, r)\n",
    "    z(θ) = z_0 + r*exp(im*θ)\n",
    "    dz(θ) = im*r*exp(im*θ)\n",
    "    θ_nodes = 2*π*[n for n=1:N]/N\n",
    "    weight = 2π / N\n",
    "    weight * sum(f.(z.(θ_nodes)) .* dz.(θ_nodes))\n",
    "end"
   ]
  },
  {
   "cell_type": "markdown",
   "id": "19f3e072-8bf4-4ff7-85f6-dbe05f579214",
   "metadata": {},
   "source": [
    "**First test**: a polynomial of degree greater than $N-2$. We know from Cauchy's integral theorem that\n",
    "$$\n",
    "\\oint f(z) dz=0\n",
    "$$\n",
    "But due to our choice of degree, the approximation should not be accurate."
   ]
  },
  {
   "cell_type": "code",
   "execution_count": 82,
   "id": "acf3899c-bf44-4cd4-bc8a-25e804586a55",
   "metadata": {},
   "outputs": [
    {
     "data": {
      "text/plain": [
       "-2.1974153077364703e-14 - 31.415926535897928im"
      ]
     },
     "execution_count": 82,
     "metadata": {},
     "output_type": "execute_result"
    }
   ],
   "source": [
    "f(z) = 2z^3 -5z^4\n",
    "N = 5\n",
    "closed_circle_contour_int(f, N, 0, 1)"
   ]
  },
  {
   "cell_type": "markdown",
   "id": "90f22d81-4ab8-4dca-a57a-9000f28c4072",
   "metadata": {},
   "source": [
    "**Second tests**: We fix the above innaccurracy by (first) increasing $N$ and (second) reducing the polynomial degree. We now expect to see zero, up to machine precision ($10^{-16}$)."
   ]
  },
  {
   "cell_type": "code",
   "execution_count": 98,
   "id": "303a6d94-b533-4d7e-9a5a-32eccfee0ceb",
   "metadata": {},
   "outputs": [
    {
     "data": {
      "text/plain": [
       "9.591153752931802e-15 - 6.045638729881628e-15im"
      ]
     },
     "execution_count": 98,
     "metadata": {},
     "output_type": "execute_result"
    }
   ],
   "source": [
    "f(z) = 2z^3 -5z^4\n",
    "N = 6\n",
    "closed_circle_contour_int(f, N, 0, 1)"
   ]
  },
  {
   "cell_type": "code",
   "execution_count": 100,
   "id": "d9500091-6e01-4650-afeb-1f3cbc925647",
   "metadata": {},
   "outputs": [
    {
     "data": {
      "text/plain": [
       "1.6252100484418195e-15 + 1.6741768790441432e-15im"
      ]
     },
     "execution_count": 100,
     "metadata": {},
     "output_type": "execute_result"
    }
   ],
   "source": [
    "f(z) = 2z^3\n",
    "N = 5\n",
    "closed_circle_contour_int(f, N, 0, 1)"
   ]
  },
  {
   "cell_type": "markdown",
   "id": "ac1cb9a2-6904-4923-b6c4-f46318e3d5d5",
   "metadata": {},
   "source": [
    "**Third tests:** Let's add a simple pole to our polynomial. For any polynomial $p$, from residue theory we expect\n",
    "$$\n",
    "\\oint_\\gamma p(z) + \\frac{1}{z} dz = 2\\pi i,\n",
    "$$\n",
    "again, to machine precision accuracy."
   ]
  },
  {
   "cell_type": "code",
   "execution_count": 86,
   "id": "7179f7d4-72eb-40b6-b021-c1fd1f6f3801",
   "metadata": {},
   "outputs": [
    {
     "data": {
      "text/plain": [
       "1.3461805686011284e-15 + 6.283185307179589im"
      ]
     },
     "execution_count": 86,
     "metadata": {},
     "output_type": "execute_result"
    }
   ],
   "source": [
    "f(z) = 2z^3 + z^(-1)\n",
    "N = 5\n",
    "closed_circle_contour_int(f, N, 0, 1)"
   ]
  },
  {
   "cell_type": "code",
   "execution_count": 109,
   "id": "ac44e446-6f57-4c50-b2e0-93fb371d3233",
   "metadata": {},
   "outputs": [
    {
     "data": {
      "text/plain": [
       "0.0 + 6.283185307179586im"
      ]
     },
     "metadata": {},
     "output_type": "display_data"
    }
   ],
   "source": [
    "display(2π*im)"
   ]
  },
  {
   "cell_type": "code",
   "execution_count": null,
   "id": "f739ce10-f78c-400a-8023-13af3cd463d9",
   "metadata": {},
   "outputs": [],
   "source": []
  }
 ],
 "metadata": {
  "date": "",
  "kernelspec": {
   "display_name": "Julia 1.11.1",
   "language": "julia",
   "name": "julia-1.11"
  },
  "language_info": {
   "file_extension": ".jl",
   "mimetype": "application/julia",
   "name": "julia",
   "version": "1.11.1"
  },
  "title": " "
 },
 "nbformat": 4,
 "nbformat_minor": 5
}
