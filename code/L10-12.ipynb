{
 "cells": [
  {
   "cell_type": "markdown",
   "id": "ab153934-6342-4eaf-8818-a6827d8152b3",
   "metadata": {},
   "source": [
    "# Lecture 10"
   ]
  },
  {
   "cell_type": "code",
   "execution_count": 35,
   "id": "ef1b77be-02b7-4259-9ad0-b453256d5760",
   "metadata": {},
   "outputs": [
    {
     "data": {
      "text/plain": [
       "trap_rule (generic function with 1 method)"
      ]
     },
     "execution_count": 35,
     "metadata": {},
     "output_type": "execute_result"
    }
   ],
   "source": [
    "function trap_rule(a,b,N)\n",
    "    x = zeros(N+1)\n",
    "    w = zeros(N+1)\n",
    "    x[1] = a\n",
    "    x[N+1] = b\n",
    "    w[1] = (b-a)/(2N)\n",
    "    w[N+1] = (b-a)/(2N)\n",
    "    for n=2:N\n",
    "        x[n] = a + (b-a)*(n-1)/N\n",
    "        w[n] = (b-a)/N\n",
    "    end\n",
    "    return x,w\n",
    "end"
   ]
  },
  {
   "cell_type": "code",
   "execution_count": 37,
   "id": "e2e72497-b4b2-4dc8-a2de-bd7331db3550",
   "metadata": {},
   "outputs": [
    {
     "data": {
      "text/plain": [
       "([0.0, 0.1, 0.2, 0.3, 0.4, 0.5, 0.6, 0.7, 0.8, 0.9, 1.0], [0.05, 0.1, 0.1, 0.1, 0.1, 0.1, 0.1, 0.1, 0.1, 0.1, 0.05])"
      ]
     },
     "execution_count": 37,
     "metadata": {},
     "output_type": "execute_result"
    }
   ],
   "source": [
    "trap_rule(0,1,10)"
   ]
  },
  {
   "cell_type": "code",
   "execution_count": 39,
   "id": "d3cefb48-6cf1-43b6-8596-41f1f32cd309",
   "metadata": {},
   "outputs": [
    {
     "data": {
      "text/plain": [
       "anti_deriv (generic function with 1 method)"
      ]
     },
     "execution_count": 39,
     "metadata": {},
     "output_type": "execute_result"
    }
   ],
   "source": [
    "anti_deriv(x) = x/2 - 0.25*sin(2x)"
   ]
  },
  {
   "cell_type": "code",
   "execution_count": 41,
   "id": "9554c020-4025-4fb2-911c-2befbcb79044",
   "metadata": {},
   "outputs": [
    {
     "data": {
      "text/plain": [
       "1.5698538745497315"
      ]
     },
     "execution_count": 41,
     "metadata": {},
     "output_type": "execute_result"
    }
   ],
   "source": [
    "anti_deriv(3)"
   ]
  },
  {
   "cell_type": "code",
   "execution_count": 49,
   "id": "06209cb0-6b00-4a36-814d-7d84315cd726",
   "metadata": {},
   "outputs": [
    {
     "data": {
      "text/plain": [
       "2.0957419842204672e-5"
      ]
     },
     "execution_count": 49,
     "metadata": {},
     "output_type": "execute_result"
    }
   ],
   "source": [
    "x,w = trap_rule(0,3,100)\n",
    "abs(w'*(sin.(x).^2) - anti_deriv(3))"
   ]
  },
  {
   "cell_type": "code",
   "execution_count": 43,
   "id": "d87e8b81-fb0b-45f9-b35b-cfae7c1c3c53",
   "metadata": {},
   "outputs": [
    {
     "data": {
      "text/plain": [
       "3.141592653589793"
      ]
     },
     "execution_count": 43,
     "metadata": {},
     "output_type": "execute_result"
    }
   ],
   "source": [
    "anti_deriv(2π)"
   ]
  },
  {
   "cell_type": "code",
   "execution_count": 57,
   "id": "dff5994a-51dc-4a8a-95ac-2111cd1a40eb",
   "metadata": {},
   "outputs": [
    {
     "data": {
      "text/plain": [
       "0.0"
      ]
     },
     "execution_count": 57,
     "metadata": {},
     "output_type": "execute_result"
    }
   ],
   "source": [
    "x,w = trap_rule(0,π,2)\n",
    "w'*(sin.(x).^2) - anti_deriv(π)"
   ]
  },
  {
   "cell_type": "code",
   "execution_count": 53,
   "id": "a91f8f13-b421-4107-ac08-95ee0e108656",
   "metadata": {},
   "outputs": [
    {
     "data": {
      "text/plain": [
       "1.5698329171298893"
      ]
     },
     "execution_count": 53,
     "metadata": {},
     "output_type": "execute_result"
    }
   ],
   "source": [
    "w'*(sin.(x).^2)"
   ]
  },
  {
   "cell_type": "code",
   "execution_count": 51,
   "id": "a50524ec-8391-46a7-8425-e0c46080f6e0",
   "metadata": {},
   "outputs": [
    {
     "data": {
      "text/plain": [
       "1.5707963267948966"
      ]
     },
     "execution_count": 51,
     "metadata": {},
     "output_type": "execute_result"
    }
   ],
   "source": [
    "anti_deriv(π)"
   ]
  },
  {
   "cell_type": "markdown",
   "id": "45038767-33c0-4f01-9725-d6e115134b48",
   "metadata": {},
   "source": [
    "# Lecture 11"
   ]
  },
  {
   "cell_type": "code",
   "execution_count": 61,
   "id": "a3797722-5215-45b6-a926-d5cc7091f40d",
   "metadata": {},
   "outputs": [
    {
     "data": {
      "text/plain": [
       "f (generic function with 1 method)"
      ]
     },
     "execution_count": 61,
     "metadata": {},
     "output_type": "execute_result"
    }
   ],
   "source": [
    "f(z) = cos(z)"
   ]
  },
  {
   "cell_type": "code",
   "execution_count": 3,
   "id": "e0423cab-ffce-4ecc-ae84-c29304cea105",
   "metadata": {},
   "outputs": [
    {
     "data": {
      "text/plain": [
       "11-element Vector{ComplexF64}:\n",
       "   0.8412535328311812 + 0.5406408174555976im\n",
       "  0.41541501300188644 + 0.9096319953545183im\n",
       "   -0.142314838273285 + 0.9898214418809328im\n",
       "   -0.654860733945285 + 0.7557495743542583im\n",
       "  -0.9594929736144974 + 0.28173255684142967im\n",
       "  -0.9594929736144975 - 0.2817325568414294im\n",
       "  -0.6548607339452852 - 0.7557495743542582im\n",
       " -0.14231483827328523 - 0.9898214418809327im\n",
       "  0.41541501300188605 - 0.9096319953545186im\n",
       "   0.8412535328311812 - 0.5406408174555974im\n",
       "                  1.0 - 1.133107779529596e-15im"
      ]
     },
     "execution_count": 3,
     "metadata": {},
     "output_type": "execute_result"
    }
   ],
   "source": [
    "N = 11\n",
    "z = [exp(im*2π*j/N) for j=1:N]"
   ]
  },
  {
   "cell_type": "code",
   "execution_count": 73,
   "id": "aa6fa889-a2f4-41c7-accd-7834a87725f3",
   "metadata": {},
   "outputs": [
    {
     "data": {
      "text/plain": [
       "1.0000000000000002 + 6.64938831099297e-17im"
      ]
     },
     "execution_count": 73,
     "metadata": {},
     "output_type": "execute_result"
    }
   ],
   "source": [
    "sum(f.(z))/N"
   ]
  },
  {
   "cell_type": "code",
   "execution_count": null,
   "id": "081102e3-4fdd-4970-bb4b-018479171dcf",
   "metadata": {},
   "outputs": [],
   "source": [
    "errs = zeros(20)"
   ]
  },
  {
   "cell_type": "code",
   "execution_count": null,
   "id": "8f85d46f-5e6c-4617-80c4-da503a41b5be",
   "metadata": {},
   "outputs": [],
   "source": []
  },
  {
   "cell_type": "code",
   "execution_count": null,
   "id": "31dce54f-cb11-4d69-9633-a139a1406f28",
   "metadata": {},
   "outputs": [],
   "source": []
  },
  {
   "cell_type": "code",
   "execution_count": 5,
   "id": "387f9025-99fa-4a0c-a239-05d004c4af43",
   "metadata": {},
   "outputs": [
    {
     "data": {
      "text/plain": [
       "f (generic function with 1 method)"
      ]
     },
     "execution_count": 5,
     "metadata": {},
     "output_type": "execute_result"
    }
   ],
   "source": [
    "f(z) = (exp(z)-1-z)/z^2"
   ]
  },
  {
   "cell_type": "code",
   "execution_count": 7,
   "id": "664c8523-028f-471d-8cc3-15f6a732856a",
   "metadata": {},
   "outputs": [
    {
     "data": {
      "text/plain": [
       "-0.607747099184471"
      ]
     },
     "execution_count": 7,
     "metadata": {},
     "output_type": "execute_result"
    }
   ],
   "source": [
    "δ = 10^(-8)\n",
    "f(δ)"
   ]
  },
  {
   "cell_type": "code",
   "execution_count": 13,
   "id": "bfd94fa4-29ad-4bcf-90af-f3cd3aaa55ad",
   "metadata": {},
   "outputs": [
    {
     "data": {
      "text/plain": [
       "2.331469087465932e-15"
      ]
     },
     "execution_count": 13,
     "metadata": {},
     "output_type": "execute_result"
    }
   ],
   "source": [
    "N = 15\n",
    "z = [exp(im*2π*j/N) for j=1:N]\n",
    "abs(sum(f.(z.+δ))/N - 0.500000001666667)"
   ]
  },
  {
   "cell_type": "code",
   "execution_count": 97,
   "id": "06378f0c-9aa6-4002-89dd-9464da83afdb",
   "metadata": {},
   "outputs": [
    {
     "data": {
      "text/plain": [
       "0.5000000000000001 - 2.0792438734770608e-17im"
      ]
     },
     "execution_count": 97,
     "metadata": {},
     "output_type": "execute_result"
    }
   ],
   "source": [
    "sum(f.(z))/N"
   ]
  },
  {
   "cell_type": "markdown",
   "id": "fd195486-fc10-4a20-9e6c-67db3c645124",
   "metadata": {},
   "source": [
    "# Lecture 12"
   ]
  },
  {
   "cell_type": "code",
   "execution_count": 26,
   "id": "d44eeee1-90ed-4a04-bdf5-0dbd9449f1aa",
   "metadata": {},
   "outputs": [
    {
     "data": {
      "text/plain": [
       "closed_circle_contour_int (generic function with 1 method)"
      ]
     },
     "execution_count": 26,
     "metadata": {},
     "output_type": "execute_result"
    }
   ],
   "source": [
    "function closed_circle_contour_int(f, N, z_0, r)\n",
    "    z(θ) = z_0 + r*exp(im*θ)\n",
    "    dz(θ) = im*r*exp(im*θ)\n",
    "    θ_nodes = 2*π*[n for n=1:N]/N\n",
    "    weight = 2π / N\n",
    "    weight * sum(f.(z.(θ_nodes)) .* dz.(θ_nodes))\n",
    "end"
   ]
  },
  {
   "cell_type": "code",
   "execution_count": 32,
   "id": "5dc538a7-ff3f-4a7c-b765-4ec5df5d9474",
   "metadata": {},
   "outputs": [
    {
     "data": {
      "text/plain": [
       "9.591153752931802e-15 - 6.045638729881628e-15im"
      ]
     },
     "execution_count": 32,
     "metadata": {},
     "output_type": "execute_result"
    }
   ],
   "source": [
    "f(z) = 2z^3 -5z^4\n",
    "N = 6\n",
    "closed_circle_contour_int(f, N, 0, 1)"
   ]
  },
  {
   "cell_type": "code",
   "execution_count": 42,
   "id": "0744b90b-1f42-4540-8760-7bf1a8051d42",
   "metadata": {},
   "outputs": [
    {
     "data": {
      "text/plain": [
       "1.0056202885999619e-14 - 8.881784197001252e-15im"
      ]
     },
     "execution_count": 42,
     "metadata": {},
     "output_type": "execute_result"
    }
   ],
   "source": [
    "f(z) = 2z^3 -5z^4 + 1/z\n",
    "N = 6\n",
    "closed_circle_contour_int(f, N, 0, 1) - 2π*im"
   ]
  },
  {
   "cell_type": "code",
   "execution_count": 44,
   "id": "1e1d84db-6d9e-4160-bb69-47d2986a8321",
   "metadata": {},
   "outputs": [
    {
     "data": {
      "text/plain": [
       "f (generic function with 1 method)"
      ]
     },
     "execution_count": 44,
     "metadata": {},
     "output_type": "execute_result"
    }
   ],
   "source": [
    "f(z) = (z^2 + z^(-2) -2)/(4*im*z)"
   ]
  },
  {
   "cell_type": "code",
   "execution_count": 64,
   "id": "d9b5cdae-7a32-40be-905e-6f0d198b8b1e",
   "metadata": {},
   "outputs": [
    {
     "data": {
      "text/plain": [
       "0.0 + 0.0im"
      ]
     },
     "execution_count": 64,
     "metadata": {},
     "output_type": "execute_result"
    }
   ],
   "source": [
    "N = 4\n",
    "closed_circle_contour_int(f, N, 0, 1) + π"
   ]
  },
  {
   "cell_type": "code",
   "execution_count": null,
   "id": "2a545fc3-92b7-4172-b602-3f682ca1b1d3",
   "metadata": {},
   "outputs": [],
   "source": []
  }
 ],
 "metadata": {
  "kernelspec": {
   "display_name": "Julia 1.11.1",
   "language": "julia",
   "name": "julia-1.11"
  },
  "language_info": {
   "file_extension": ".jl",
   "mimetype": "application/julia",
   "name": "julia",
   "version": "1.11.1"
  }
 },
 "nbformat": 4,
 "nbformat_minor": 5
}
